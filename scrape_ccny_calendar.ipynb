{
 "cells": [
  {
   "cell_type": "markdown",
   "id": "5b5ca8a9-8606-4cfd-8d54-35c686177fee",
   "metadata": {},
   "source": [
    "Tak Kit Yeung"
   ]
  },
  {
   "cell_type": "markdown",
   "id": "e66fde70-3f06-4b33-91c3-aa54e4e79abf",
   "metadata": {},
   "source": [
    "Scrape CCNY calendar:"
   ]
  },
  {
   "cell_type": "code",
   "execution_count": 2,
   "id": "90e79c7a-321e-4e2e-9cc0-04ac9fc89f69",
   "metadata": {},
   "outputs": [],
   "source": [
    "# import libraries\n",
    "import requests\n",
    "import numpy as np\n",
    "import pandas as pd\n",
    "from bs4 import BeautifulSoup\n",
    "from datetime import timedelta"
   ]
  },
  {
   "cell_type": "code",
   "execution_count": 3,
   "id": "cdcb1e93-7590-4bc5-b29e-72a0dafe1290",
   "metadata": {},
   "outputs": [],
   "source": [
    "# send HTTP requests\n",
    "url = 'https://www.ccny.cuny.edu/registrar/fall'\n",
    "response = requests.get(url)\n",
    "# extract data from HTML\n",
    "soup = BeautifulSoup(response.text)\n",
    "td = soup.find_all('td')"
   ]
  }
 ],
 "metadata": {
  "kernelspec": {
   "display_name": "Python 3 (ipykernel)",
   "language": "python",
   "name": "python3"
  },
  "language_info": {
   "codemirror_mode": {
    "name": "ipython",
    "version": 3
   },
   "file_extension": ".py",
   "mimetype": "text/x-python",
   "name": "python",
   "nbconvert_exporter": "python",
   "pygments_lexer": "ipython3",
   "version": "3.12.4"
  }
 },
 "nbformat": 4,
 "nbformat_minor": 5
}
